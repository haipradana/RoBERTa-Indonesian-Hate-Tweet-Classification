{
 "cells": [
  {
   "cell_type": "code",
   "execution_count": null,
   "metadata": {
    "_cell_guid": "b1076dfc-b9ad-4769-8c92-a6c4dae69d19",
    "_uuid": "8f2839f25d086af736a60e9eeb907d3b93b6e0e5",
    "execution": {
     "iopub.execute_input": "2025-06-22T00:53:29.178783Z",
     "iopub.status.busy": "2025-06-22T00:53:29.178550Z",
     "iopub.status.idle": "2025-06-22T00:53:30.184216Z",
     "shell.execute_reply": "2025-06-22T00:53:30.183332Z",
     "shell.execute_reply.started": "2025-06-22T00:53:29.178760Z"
    },
    "trusted": true
   },
   "outputs": [
    {
     "name": "stdout",
     "output_type": "stream",
     "text": [
      "Cloning into 'roberta-indonesian-hate-tweet'...\n",
      "remote: Enumerating objects: 42, done.\u001b[K\n",
      "remote: Counting objects: 100% (42/42), done.\u001b[K\n",
      "remote: Compressing objects: 100% (29/29), done.\u001b[K\n",
      "remote: Total 42 (delta 22), reused 30 (delta 13), pack-reused 0 (from 0)\u001b[K\n",
      "Receiving objects: 100% (42/42), 1.91 MiB | 20.40 MiB/s, done.\n",
      "Resolving deltas: 100% (22/22), done.\n",
      "/kaggle/working/roberta-indonesian-hate-tweet\n"
     ]
    }
   ],
   "source": [
    "!git clone https://github.com/haipradana/roberta-indonesian-hate-tweet.git\n",
    "%cd roberta-indonesian-hate-tweet"
   ]
  },
  {
   "cell_type": "code",
   "execution_count": 2,
   "metadata": {
    "execution": {
     "iopub.execute_input": "2025-06-22T00:53:30.186560Z",
     "iopub.status.busy": "2025-06-22T00:53:30.186248Z",
     "iopub.status.idle": "2025-06-22T00:54:48.453307Z",
     "shell.execute_reply": "2025-06-22T00:54:48.452591Z",
     "shell.execute_reply.started": "2025-06-22T00:53:30.186522Z"
    },
    "trusted": true
   },
   "outputs": [
    {
     "name": "stdout",
     "output_type": "stream",
     "text": [
      "\u001b[2K   \u001b[90m━━━━━━━━━━━━━━━━━━━━━━━━━━━━━━━━━━━━━━━━\u001b[0m \u001b[32m84.1/84.1 kB\u001b[0m \u001b[31m3.0 MB/s\u001b[0m eta \u001b[36m0:00:00\u001b[0m\n",
      "\u001b[2K   \u001b[90m━━━━━━━━━━━━━━━━━━━━━━━━━━━━━━━━━━━━━━━━\u001b[0m \u001b[32m193.6/193.6 kB\u001b[0m \u001b[31m8.4 MB/s\u001b[0m eta \u001b[36m0:00:00\u001b[0m\n",
      "\u001b[2K   \u001b[90m━━━━━━━━━━━━━━━━━━━━━━━━━━━━━━━━━━━━━━━━\u001b[0m \u001b[32m363.4/363.4 MB\u001b[0m \u001b[31m4.7 MB/s\u001b[0m eta \u001b[36m0:00:00\u001b[0m0:00:01\u001b[0m00:01\u001b[0m\n",
      "\u001b[2K   \u001b[90m━━━━━━━━━━━━━━━━━━━━━━━━━━━━━━━━━━━━━━━━\u001b[0m \u001b[32m664.8/664.8 MB\u001b[0m \u001b[31m2.5 MB/s\u001b[0m eta \u001b[36m0:00:00\u001b[0m0:00:01\u001b[0m00:01\u001b[0m\n",
      "\u001b[2K   \u001b[90m━━━━━━━━━━━━━━━━━━━━━━━━━━━━━━━━━━━━━━━━\u001b[0m \u001b[32m211.5/211.5 MB\u001b[0m \u001b[31m6.4 MB/s\u001b[0m eta \u001b[36m0:00:00\u001b[0m0:00:01\u001b[0m00:01\u001b[0m\n",
      "\u001b[2K   \u001b[90m━━━━━━━━━━━━━━━━━━━━━━━━━━━━━━━━━━━━━━━━\u001b[0m \u001b[32m56.3/56.3 MB\u001b[0m \u001b[31m31.1 MB/s\u001b[0m eta \u001b[36m0:00:00\u001b[0m:00:01\u001b[0m00:01\u001b[0m\n",
      "\u001b[2K   \u001b[90m━━━━━━━━━━━━━━━━━━━━━━━━━━━━━━━━━━━━━━━━\u001b[0m \u001b[32m127.9/127.9 MB\u001b[0m \u001b[31m13.6 MB/s\u001b[0m eta \u001b[36m0:00:00\u001b[0m:00:01\u001b[0m00:01\u001b[0m\n",
      "\u001b[2K   \u001b[90m━━━━━━━━━━━━━━━━━━━━━━━━━━━━━━━━━━━━━━━━\u001b[0m \u001b[32m207.5/207.5 MB\u001b[0m \u001b[31m2.0 MB/s\u001b[0m eta \u001b[36m0:00:00\u001b[0m0:00:01\u001b[0m00:01\u001b[0m\n",
      "\u001b[2K   \u001b[90m━━━━━━━━━━━━━━━━━━━━━━━━━━━━━━━━━━━━━━━━\u001b[0m \u001b[32m21.1/21.1 MB\u001b[0m \u001b[31m71.3 MB/s\u001b[0m eta \u001b[36m0:00:00\u001b[0m:00:01\u001b[0m00:01\u001b[0m\n",
      "\u001b[?25h\u001b[31mERROR: pip's dependency resolver does not currently take into account all the packages that are installed. This behaviour is the source of the following dependency conflicts.\n",
      "cesium 0.12.4 requires numpy<3.0,>=2.0, but you have numpy 1.26.4 which is incompatible.\n",
      "bigframes 1.42.0 requires rich<14,>=12.4.4, but you have rich 14.0.0 which is incompatible.\n",
      "gcsfs 2025.3.2 requires fsspec==2025.3.2, but you have fsspec 2025.3.0 which is incompatible.\u001b[0m\u001b[31m\n",
      "\u001b[0m"
     ]
    }
   ],
   "source": [
    "!pip install -q transformers datasets accelerate evaluate scikit-learn matplotlib seaborn pandas"
   ]
  },
  {
   "cell_type": "code",
   "execution_count": 3,
   "metadata": {
    "execution": {
     "iopub.execute_input": "2025-06-22T00:54:48.454469Z",
     "iopub.status.busy": "2025-06-22T00:54:48.454184Z",
     "iopub.status.idle": "2025-06-22T00:55:15.761958Z",
     "shell.execute_reply": "2025-06-22T00:55:15.761441Z",
     "shell.execute_reply.started": "2025-06-22T00:54:48.454441Z"
    },
    "trusted": true
   },
   "outputs": [
    {
     "name": "stderr",
     "output_type": "stream",
     "text": [
      "2025-06-22 00:55:02.914192: E external/local_xla/xla/stream_executor/cuda/cuda_fft.cc:477] Unable to register cuFFT factory: Attempting to register factory for plugin cuFFT when one has already been registered\n",
      "WARNING: All log messages before absl::InitializeLog() is called are written to STDERR\n",
      "E0000 00:00:1750553703.105517      35 cuda_dnn.cc:8310] Unable to register cuDNN factory: Attempting to register factory for plugin cuDNN when one has already been registered\n",
      "E0000 00:00:1750553703.162536      35 cuda_blas.cc:1418] Unable to register cuBLAS factory: Attempting to register factory for plugin cuBLAS when one has already been registered\n"
     ]
    }
   ],
   "source": [
    "import torch\n",
    "from datasets import load_dataset, Features, ClassLabel\n",
    "from transformers import (\n",
    "    AutoTokenizer,\n",
    "    AutoModelForSequenceClassification,\n",
    "    TrainingArguments,\n",
    "    Trainer\n",
    ")\n",
    "import numpy as np\n",
    "import pandas as pd\n",
    "import os\n",
    "from datetime import datetime\n",
    "import evaluate \n",
    "from sklearn.metrics import (\n",
    "    accuracy_score,\n",
    "    f1_score,\n",
    "    precision_score,\n",
    "    recall_score,\n",
    "    confusion_matrix,\n",
    ")\n",
    "import seaborn as sns\n",
    "import matplotlib.pyplot as plt"
   ]
  },
  {
   "cell_type": "markdown",
   "metadata": {},
   "source": [
    "## Configuration set-up"
   ]
  },
  {
   "cell_type": "code",
   "execution_count": 4,
   "metadata": {
    "execution": {
     "iopub.execute_input": "2025-06-22T00:55:15.763141Z",
     "iopub.status.busy": "2025-06-22T00:55:15.762661Z",
     "iopub.status.idle": "2025-06-22T00:55:15.767891Z",
     "shell.execute_reply": "2025-06-22T00:55:15.767183Z",
     "shell.execute_reply.started": "2025-06-22T00:55:15.763122Z"
    },
    "trusted": true
   },
   "outputs": [],
   "source": [
    "model_name = \"cardiffnlp/twitter-roberta-base-sentiment-latest\"\n",
    "dataset_path = 'dataset/dataset.csv'\n",
    "\n",
    "output_dir = \"finetune_output\"\n",
    "os.makedirs(output_dir, exist_ok=True)\n",
    "\n",
    "# Mapping label to id (numerical)\n",
    "classes = [\"neutral\", \"hate\"]\n",
    "label2id =  {label: i for i, label in enumerate(classes)}\n",
    "id2label =  {i: label for i, label in enumerate(classes)}\n",
    "\n",
    "NUM_LABELS = len(classes)"
   ]
  },
  {
   "cell_type": "markdown",
   "metadata": {},
   "source": [
    "## Load Tokenizer and Model"
   ]
  },
  {
   "cell_type": "code",
   "execution_count": 5,
   "metadata": {
    "execution": {
     "iopub.execute_input": "2025-06-22T00:55:15.768946Z",
     "iopub.status.busy": "2025-06-22T00:55:15.768697Z",
     "iopub.status.idle": "2025-06-22T00:55:19.906656Z",
     "shell.execute_reply": "2025-06-22T00:55:19.906066Z",
     "shell.execute_reply.started": "2025-06-22T00:55:15.768930Z"
    },
    "trusted": true
   },
   "outputs": [
    {
     "data": {
      "application/vnd.jupyter.widget-view+json": {
       "model_id": "bbc8678944a74e59881ac66ea3cb2ba5",
       "version_major": 2,
       "version_minor": 0
      },
      "text/plain": [
       "config.json:   0%|          | 0.00/929 [00:00<?, ?B/s]"
      ]
     },
     "metadata": {},
     "output_type": "display_data"
    },
    {
     "data": {
      "application/vnd.jupyter.widget-view+json": {
       "model_id": "81ee92a4f5ec49b3a4f0738a85996abc",
       "version_major": 2,
       "version_minor": 0
      },
      "text/plain": [
       "vocab.json:   0%|          | 0.00/899k [00:00<?, ?B/s]"
      ]
     },
     "metadata": {},
     "output_type": "display_data"
    },
    {
     "data": {
      "application/vnd.jupyter.widget-view+json": {
       "model_id": "a63518a3bbaa484886fc5fa6b7e9a057",
       "version_major": 2,
       "version_minor": 0
      },
      "text/plain": [
       "merges.txt:   0%|          | 0.00/456k [00:00<?, ?B/s]"
      ]
     },
     "metadata": {},
     "output_type": "display_data"
    },
    {
     "data": {
      "application/vnd.jupyter.widget-view+json": {
       "model_id": "627d7b2c462841a7af007931c037f8e4",
       "version_major": 2,
       "version_minor": 0
      },
      "text/plain": [
       "special_tokens_map.json:   0%|          | 0.00/239 [00:00<?, ?B/s]"
      ]
     },
     "metadata": {},
     "output_type": "display_data"
    },
    {
     "data": {
      "application/vnd.jupyter.widget-view+json": {
       "model_id": "ced2a76730594c8bbed7ec8bac4708aa",
       "version_major": 2,
       "version_minor": 0
      },
      "text/plain": [
       "pytorch_model.bin:   0%|          | 0.00/501M [00:00<?, ?B/s]"
      ]
     },
     "metadata": {},
     "output_type": "display_data"
    },
    {
     "data": {
      "application/vnd.jupyter.widget-view+json": {
       "model_id": "28a10d5e8e2d4d619a9cedaa4750893a",
       "version_major": 2,
       "version_minor": 0
      },
      "text/plain": [
       "model.safetensors:   0%|          | 0.00/501M [00:00<?, ?B/s]"
      ]
     },
     "metadata": {},
     "output_type": "display_data"
    },
    {
     "name": "stderr",
     "output_type": "stream",
     "text": [
      "Some weights of the model checkpoint at cardiffnlp/twitter-roberta-base-sentiment-latest were not used when initializing RobertaForSequenceClassification: ['roberta.pooler.dense.bias', 'roberta.pooler.dense.weight']\n",
      "- This IS expected if you are initializing RobertaForSequenceClassification from the checkpoint of a model trained on another task or with another architecture (e.g. initializing a BertForSequenceClassification model from a BertForPreTraining model).\n",
      "- This IS NOT expected if you are initializing RobertaForSequenceClassification from the checkpoint of a model that you expect to be exactly identical (initializing a BertForSequenceClassification model from a BertForSequenceClassification model).\n",
      "Some weights of RobertaForSequenceClassification were not initialized from the model checkpoint at cardiffnlp/twitter-roberta-base-sentiment-latest and are newly initialized because the shapes did not match:\n",
      "- classifier.out_proj.weight: found shape torch.Size([3, 768]) in the checkpoint and torch.Size([2, 768]) in the model instantiated\n",
      "- classifier.out_proj.bias: found shape torch.Size([3]) in the checkpoint and torch.Size([2]) in the model instantiated\n",
      "You should probably TRAIN this model on a down-stream task to be able to use it for predictions and inference.\n"
     ]
    }
   ],
   "source": [
    "tokenizer = AutoTokenizer.from_pretrained(model_name)\n",
    "model = AutoModelForSequenceClassification.from_pretrained(\n",
    "    model_name, num_labels=NUM_LABELS, label2id=label2id, id2label=id2label, ignore_mismatched_sizes=True\n",
    ")"
   ]
  },
  {
   "cell_type": "markdown",
   "metadata": {},
   "source": [
    "## Prepare dataset for training"
   ]
  },
  {
   "cell_type": "code",
   "execution_count": 6,
   "metadata": {
    "execution": {
     "iopub.execute_input": "2025-06-22T00:55:19.907604Z",
     "iopub.status.busy": "2025-06-22T00:55:19.907376Z",
     "iopub.status.idle": "2025-06-22T00:55:25.355115Z",
     "shell.execute_reply": "2025-06-22T00:55:25.352793Z",
     "shell.execute_reply.started": "2025-06-22T00:55:19.907578Z"
    },
    "trusted": true
   },
   "outputs": [
    {
     "data": {
      "application/vnd.jupyter.widget-view+json": {
       "model_id": "b2972c3657a34cada5e9a3db8fce56ac",
       "version_major": 2,
       "version_minor": 0
      },
      "text/plain": [
       "Generating train split: 0 examples [00:00, ? examples/s]"
      ]
     },
     "metadata": {},
     "output_type": "display_data"
    },
    {
     "data": {
      "application/vnd.jupyter.widget-view+json": {
       "model_id": "4e3be1ee48da458ab4f1bb96839ab75b",
       "version_major": 2,
       "version_minor": 0
      },
      "text/plain": [
       "Map:   0%|          | 0/18148 [00:00<?, ? examples/s]"
      ]
     },
     "metadata": {},
     "output_type": "display_data"
    },
    {
     "name": "stdout",
     "output_type": "stream",
     "text": [
      "Total training: 12702 (70%)\n",
      "Total validasi: 2723 (15%)\n",
      "Total test: 2723 (15%)\n"
     ]
    }
   ],
   "source": [
    "from datasets import Value\n",
    "\n",
    "features = Features(\n",
    "    {'text': Value('string'), \n",
    "     'label': ClassLabel(names=classes)}\n",
    ")\n",
    "dataset = load_dataset('csv', data_files={'train':dataset_path}, features=features)\n",
    "\n",
    "def tokenize_func(examples):\n",
    "    return tokenizer(examples[\"text\"], padding=\"max_length\", truncation=True, max_length=511)\n",
    "\n",
    "tokenized_datasets = dataset.map(tokenize_func, batched=True)\n",
    "tokenized_datasets = tokenized_datasets.remove_columns([\"text\"])\n",
    "tokenized_datasets = tokenized_datasets.rename_column(\"label\", \"labels\")\n",
    "tokenized_datasets.set_format(\"torch\")\n",
    "\n",
    "# split data into 70/15/15\n",
    "train_val_dataset = tokenized_datasets[\"train\"].train_test_split(test_size=0.15, seed=42)\n",
    "train_test_split = train_val_dataset['train'].train_test_split(test_size=0.15/0.85, seed=42)\n",
    "\n",
    "train_dataset = train_test_split['train']\n",
    "eval_dataset = train_test_split['test'] # validation set\n",
    "test_dataset = train_val_dataset['test'] # test set\n",
    "\n",
    "print(f\"Total training: {len(train_dataset)} ({len(train_dataset)/len(tokenized_datasets['train']):.0%})\")\n",
    "print(f\"Total validasi: {len(eval_dataset)} ({len(eval_dataset)/len(tokenized_datasets['train']):.0%})\")\n",
    "print(f\"Total test: {len(test_dataset)} ({len(test_dataset)/len(tokenized_datasets['train']):.0%})\")"
   ]
  },
  {
   "cell_type": "markdown",
   "metadata": {},
   "source": [
    "## Configure metrics"
   ]
  },
  {
   "cell_type": "code",
   "execution_count": 7,
   "metadata": {
    "execution": {
     "iopub.execute_input": "2025-06-22T00:55:25.357968Z",
     "iopub.status.busy": "2025-06-22T00:55:25.357723Z",
     "iopub.status.idle": "2025-06-22T00:55:25.364860Z",
     "shell.execute_reply": "2025-06-22T00:55:25.364146Z",
     "shell.execute_reply.started": "2025-06-22T00:55:25.357949Z"
    },
    "trusted": true
   },
   "outputs": [],
   "source": [
    "def compute_metrics(eval_pred):\n",
    "    logits, labels = eval_pred\n",
    "    predictions = np.argmax(logits, axis=-1)\n",
    "\n",
    "    # pos_label=1 because 'hate' is a second classes (index 1)\n",
    "    accuracy = accuracy_score(y_true=labels, y_pred=predictions)\n",
    "    precision = precision_score(y_true=labels, y_pred=predictions, average='weighted')\n",
    "    recall = recall_score(y_true=labels, y_pred=predictions, average='weighted')\n",
    "    f1 = f1_score(y_true=labels, y_pred=predictions, average='weighted')\n",
    "    \n",
    "    return {\"accuracy\": accuracy, \"precision\": precision, \"recall\": recall, \"f1\": f1}"
   ]
  },
  {
   "cell_type": "code",
   "execution_count": 8,
   "metadata": {
    "execution": {
     "iopub.execute_input": "2025-06-22T00:55:25.368353Z",
     "iopub.status.busy": "2025-06-22T00:55:25.368115Z",
     "iopub.status.idle": "2025-06-22T00:55:25.594967Z",
     "shell.execute_reply": "2025-06-22T00:55:25.594415Z",
     "shell.execute_reply.started": "2025-06-22T00:55:25.368332Z"
    },
    "trusted": true
   },
   "outputs": [],
   "source": [
    "training_args = TrainingArguments(\n",
    "    output_dir=output_dir,\n",
    "    report_to=\"none\",\n",
    "    num_train_epochs=2,\n",
    "    learning_rate=2e-5,\n",
    "    per_device_train_batch_size=8,\n",
    "    per_device_eval_batch_size=16,\n",
    "    warmup_ratio=0.08,\n",
    "    weight_decay=0.01,\n",
    "    logging_strategy=\"epoch\",\n",
    "    eval_strategy=\"epoch\",\n",
    "    save_strategy=\"epoch\",\n",
    "    load_best_model_at_end=True,\n",
    "    metric_for_best_model=\"f1\", \n",
    ")"
   ]
  },
  {
   "cell_type": "code",
   "execution_count": 9,
   "metadata": {
    "execution": {
     "iopub.execute_input": "2025-06-22T00:55:25.596098Z",
     "iopub.status.busy": "2025-06-22T00:55:25.595751Z",
     "iopub.status.idle": "2025-06-22T00:55:25.938805Z",
     "shell.execute_reply": "2025-06-22T00:55:25.938197Z",
     "shell.execute_reply.started": "2025-06-22T00:55:25.596073Z"
    },
    "trusted": true
   },
   "outputs": [
    {
     "name": "stderr",
     "output_type": "stream",
     "text": [
      "/tmp/ipykernel_35/880166735.py:3: FutureWarning: `tokenizer` is deprecated and will be removed in version 5.0.0 for `Trainer.__init__`. Use `processing_class` instead.\n",
      "  trainer = Trainer(\n"
     ]
    }
   ],
   "source": [
    "from transformers import EarlyStoppingCallback\n",
    "\n",
    "trainer = Trainer(\n",
    "    model=model, args=training_args, train_dataset=train_dataset, eval_dataset=eval_dataset,\n",
    "    compute_metrics=compute_metrics, tokenizer=tokenizer, callbacks=[EarlyStoppingCallback(early_stopping_patience=2, early_stopping_threshold=0.001)]\n",
    ")"
   ]
  },
  {
   "cell_type": "markdown",
   "metadata": {},
   "source": [
    "## Training"
   ]
  },
  {
   "cell_type": "code",
   "execution_count": 10,
   "metadata": {
    "execution": {
     "iopub.execute_input": "2025-06-22T00:55:25.939737Z",
     "iopub.status.busy": "2025-06-22T00:55:25.939533Z",
     "iopub.status.idle": "2025-06-22T01:21:37.774555Z",
     "shell.execute_reply": "2025-06-22T01:21:37.773904Z",
     "shell.execute_reply.started": "2025-06-22T00:55:25.939720Z"
    },
    "trusted": true
   },
   "outputs": [
    {
     "name": "stdout",
     "output_type": "stream",
     "text": [
      "Starting...\n"
     ]
    },
    {
     "name": "stderr",
     "output_type": "stream",
     "text": [
      "/usr/local/lib/python3.11/dist-packages/torch/nn/parallel/_functions.py:70: UserWarning: Was asked to gather along dimension 0, but all input tensors were scalars; will instead unsqueeze and return a vector.\n",
      "  warnings.warn(\n"
     ]
    },
    {
     "data": {
      "text/html": [
       "\n",
       "    <div>\n",
       "      \n",
       "      <progress value='1588' max='1588' style='width:300px; height:20px; vertical-align: middle;'></progress>\n",
       "      [1588/1588 26:09, Epoch 2/2]\n",
       "    </div>\n",
       "    <table border=\"1\" class=\"dataframe\">\n",
       "  <thead>\n",
       " <tr style=\"text-align: left;\">\n",
       "      <th>Epoch</th>\n",
       "      <th>Training Loss</th>\n",
       "      <th>Validation Loss</th>\n",
       "      <th>Accuracy</th>\n",
       "      <th>Precision</th>\n",
       "      <th>Recall</th>\n",
       "      <th>F1</th>\n",
       "    </tr>\n",
       "  </thead>\n",
       "  <tbody>\n",
       "    <tr>\n",
       "      <td>1</td>\n",
       "      <td>0.549700</td>\n",
       "      <td>0.437731</td>\n",
       "      <td>0.802424</td>\n",
       "      <td>0.804289</td>\n",
       "      <td>0.802424</td>\n",
       "      <td>0.801939</td>\n",
       "    </tr>\n",
       "    <tr>\n",
       "      <td>2</td>\n",
       "      <td>0.375900</td>\n",
       "      <td>0.416408</td>\n",
       "      <td>0.824458</td>\n",
       "      <td>0.824553</td>\n",
       "      <td>0.824458</td>\n",
       "      <td>0.824470</td>\n",
       "    </tr>\n",
       "  </tbody>\n",
       "</table><p>"
      ],
      "text/plain": [
       "<IPython.core.display.HTML object>"
      ]
     },
     "metadata": {},
     "output_type": "display_data"
    },
    {
     "name": "stderr",
     "output_type": "stream",
     "text": [
      "/usr/local/lib/python3.11/dist-packages/torch/nn/parallel/_functions.py:70: UserWarning: Was asked to gather along dimension 0, but all input tensors were scalars; will instead unsqueeze and return a vector.\n",
      "  warnings.warn(\n"
     ]
    },
    {
     "name": "stdout",
     "output_type": "stream",
     "text": [
      "Fine-tuning completed!\n"
     ]
    }
   ],
   "source": [
    "print(\"Starting...\")\n",
    "trainer.train()\n",
    "print(\"Fine-tuning completed!\")"
   ]
  },
  {
   "cell_type": "markdown",
   "metadata": {},
   "source": [
    "## Logs"
   ]
  },
  {
   "cell_type": "code",
   "execution_count": 11,
   "metadata": {
    "execution": {
     "iopub.execute_input": "2025-06-22T01:21:37.775475Z",
     "iopub.status.busy": "2025-06-22T01:21:37.775239Z",
     "iopub.status.idle": "2025-06-22T01:21:37.787464Z",
     "shell.execute_reply": "2025-06-22T01:21:37.786882Z",
     "shell.execute_reply.started": "2025-06-22T01:21:37.775450Z"
    },
    "trusted": true
   },
   "outputs": [
    {
     "name": "stdout",
     "output_type": "stream",
     "text": [
      "Training Log saved!\n"
     ]
    }
   ],
   "source": [
    "logs = trainer.state.log_history\n",
    "log_df = pd.DataFrame(logs)\n",
    "log_df.to_csv(os.path.join(output_dir, \"training_logs.csv\"), index=False)\n",
    "print('Training Log saved!')"
   ]
  },
  {
   "cell_type": "markdown",
   "metadata": {},
   "source": [
    "# Evaluation"
   ]
  },
  {
   "cell_type": "code",
   "execution_count": 12,
   "metadata": {
    "execution": {
     "iopub.execute_input": "2025-06-22T01:21:37.788155Z",
     "iopub.status.busy": "2025-06-22T01:21:37.787969Z",
     "iopub.status.idle": "2025-06-22T01:22:24.338913Z",
     "shell.execute_reply": "2025-06-22T01:22:24.338033Z",
     "shell.execute_reply.started": "2025-06-22T01:21:37.788142Z"
    },
    "trusted": true
   },
   "outputs": [
    {
     "name": "stderr",
     "output_type": "stream",
     "text": [
      "/usr/local/lib/python3.11/dist-packages/torch/nn/parallel/_functions.py:70: UserWarning: Was asked to gather along dimension 0, but all input tensors were scalars; will instead unsqueeze and return a vector.\n",
      "  warnings.warn(\n"
     ]
    },
    {
     "data": {
      "text/html": [],
      "text/plain": [
       "<IPython.core.display.HTML object>"
      ]
     },
     "metadata": {},
     "output_type": "display_data"
    }
   ],
   "source": [
    "predictions_output = trainer.predict(test_dataset)\n",
    "\n",
    "pred_labels = np.argmax(predictions_output.predictions, axis=1)\n",
    "true_labels = predictions_output.label_ids"
   ]
  },
  {
   "cell_type": "code",
   "execution_count": 13,
   "metadata": {
    "execution": {
     "iopub.execute_input": "2025-06-22T01:22:24.340335Z",
     "iopub.status.busy": "2025-06-22T01:22:24.339789Z",
     "iopub.status.idle": "2025-06-22T01:22:24.350105Z",
     "shell.execute_reply": "2025-06-22T01:22:24.349259Z",
     "shell.execute_reply.started": "2025-06-22T01:22:24.340310Z"
    },
    "trusted": true
   },
   "outputs": [],
   "source": [
    "accuracy = accuracy_score(true_labels, pred_labels)\n",
    "precision = precision_score(true_labels, pred_labels, pos_label=1)\n",
    "recall = recall_score(true_labels, pred_labels, pos_label=1)\n",
    "f1 = f1_score(true_labels, pred_labels, pos_label=1)"
   ]
  },
  {
   "cell_type": "code",
   "execution_count": 14,
   "metadata": {
    "execution": {
     "iopub.execute_input": "2025-06-22T01:22:24.351154Z",
     "iopub.status.busy": "2025-06-22T01:22:24.350919Z",
     "iopub.status.idle": "2025-06-22T01:22:24.356222Z",
     "shell.execute_reply": "2025-06-22T01:22:24.355480Z",
     "shell.execute_reply.started": "2025-06-22T01:22:24.351129Z"
    },
    "trusted": true
   },
   "outputs": [
    {
     "name": "stdout",
     "output_type": "stream",
     "text": [
      "\n",
      "===== Final Report of Test Set Performance =====\n",
      "Accuracy: 0.8201\n",
      "Precision (weighted): 0.8268\n",
      "Recall (weighted): 0.8172\n",
      "F1-Score (weighted): 0.8219\n"
     ]
    }
   ],
   "source": [
    "print(\"\\n===== Final Report of Test Set Performance =====\")\n",
    "print(f\"Accuracy: {accuracy:.4f}\")\n",
    "print(f\"Precision (weighted): {precision:.4f}\")\n",
    "print(f\"Recall (weighted): {recall:.4f}\")\n",
    "print(f\"F1-Score (weighted): {f1:.4f}\")"
   ]
  },
  {
   "cell_type": "code",
   "execution_count": 15,
   "metadata": {
    "execution": {
     "iopub.execute_input": "2025-06-22T01:22:24.357212Z",
     "iopub.status.busy": "2025-06-22T01:22:24.357003Z",
     "iopub.status.idle": "2025-06-22T01:22:24.367805Z",
     "shell.execute_reply": "2025-06-22T01:22:24.367246Z",
     "shell.execute_reply.started": "2025-06-22T01:22:24.357197Z"
    },
    "trusted": true
   },
   "outputs": [],
   "source": [
    "final_metrics_report = {\"accuracy\": accuracy, \"precision\": precision, \"recall\": recall, \"f1\": f1}\n",
    "with open(os.path.join(output_dir, \"final_metrics_report.txt\"), \"w\") as f:\n",
    "    f.write(str(final_metrics_report))"
   ]
  },
  {
   "cell_type": "code",
   "execution_count": null,
   "metadata": {
    "execution": {
     "iopub.execute_input": "2025-06-22T01:22:24.368709Z",
     "iopub.status.busy": "2025-06-22T01:22:24.368505Z",
     "iopub.status.idle": "2025-06-22T01:22:24.695447Z",
     "shell.execute_reply": "2025-06-22T01:22:24.694653Z",
     "shell.execute_reply.started": "2025-06-22T01:22:24.368695Z"
    },
    "trusted": true
   },
   "outputs": [
    {
     "name": "stdout",
     "output_type": "stream",
     "text": [
      "Confusion matrix disimpan di: finetune_output/confusion_matrix.png\n"
     ]
    },
    {
     "data": {
      "image/png": "[encoded data removed]",
      "text/plain": [
       "<Figure size 800x600 with 2 Axes>"
      ]
     },
     "metadata": {},
     "output_type": "display_data"
    }
   ],
   "source": [
    "cm = confusion_matrix(true_labels, pred_labels)\n",
    "plt.figure(figsize=(8, 6))\n",
    "sns.heatmap(cm, annot=True, fmt='d', cmap='Blues', xticklabels=classes, yticklabels=classes)\n",
    "plt.xlabel('Predicted Label')\n",
    "plt.ylabel('True Label')\n",
    "plt.title('Confusion Matrix on Test Set')\n",
    "conf_matrix_path = os.path.join(output_dir, \"confusion_matrix.png\")\n",
    "plt.savefig(conf_matrix_path)\n",
    "print(f\"Confusion matrix disimpan di: {conf_matrix_path}\")\n",
    "plt.show()"
   ]
  }
 ],
 "metadata": {
  "kaggle": {
   "accelerator": "nvidiaTeslaT4",
   "dataSources": [],
   "dockerImageVersionId": 31041,
   "isGpuEnabled": true,
   "isInternetEnabled": true,
   "language": "python",
   "sourceType": "notebook"
  },
  "kernelspec": {
   "display_name": "Python 3",
   "language": "python",
   "name": "python3"
  },
  "language_info": {
   "codemirror_mode": {
    "name": "ipython",
    "version": 3
   },
   "file_extension": ".py",
   "mimetype": "text/x-python",
   "name": "python",
   "nbconvert_exporter": "python",
   "pygments_lexer": "ipython3",
   "version": "3.11.11"
  }
 },
 "nbformat": 4,
 "nbformat_minor": 4
}
