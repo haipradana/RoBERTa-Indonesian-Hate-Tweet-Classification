{
 "cells": [
  {
   "cell_type": "code",
   "execution_count": 10,
   "id": "1d6a6b49",
   "metadata": {},
   "outputs": [],
   "source": [
    "import pandas as pd"
   ]
  },
  {
   "cell_type": "code",
   "execution_count": 11,
   "id": "c2d5f139",
   "metadata": {},
   "outputs": [],
   "source": [
    "csv1 = pd.read_csv('cleaned_1.csv')\n",
    "csv2 = pd.read_csv('cleaned_2.csv')"
   ]
  },
  {
   "cell_type": "code",
   "execution_count": 12,
   "id": "0b1eae10",
   "metadata": {},
   "outputs": [],
   "source": [
    "def gabungkan_csv(csv1, csv2, output_csv):\n",
    "    # Membaca file CSV\n",
    "    df1 = pd.read_csv(csv1)\n",
    "    df2 = pd.read_csv(csv2)\n",
    "\n",
    "    # Menggabungkan kedua DataFrame\n",
    "    df_gabungan = pd.concat([df1, df2], ignore_index=True)\n",
    "\n",
    "    # Menyimpan hasil gabungan ke file CSV baru\n",
    "    df_gabungan.to_csv(output_csv, index=False)\n",
    "    print(f\"File gabungan disimpan sebagai {output_csv}\")"
   ]
  },
  {
   "cell_type": "code",
   "execution_count": 13,
   "id": "5973fbfa",
   "metadata": {},
   "outputs": [
    {
     "name": "stdout",
     "output_type": "stream",
     "text": [
      "File gabungan disimpan sebagai dataset.csv\n"
     ]
    }
   ],
   "source": [
    "gabungkan_csv('cleaned_1.csv', 'cleaned_2.csv', 'dataset.csv')"
   ]
  },
  {
   "cell_type": "code",
   "execution_count": 14,
   "id": "9d592a66",
   "metadata": {},
   "outputs": [
    {
     "name": "stdout",
     "output_type": "stream",
     "text": [
      "Distribusi label:\n",
      "label\n",
      "hate       9234\n",
      "neutral    8954\n",
      "Name: count, dtype: int64\n"
     ]
    }
   ],
   "source": [
    "# melihat distribusi label\n",
    "def lihat_distribusi_label(csv_file):\n",
    "    df = pd.read_csv(csv_file)\n",
    "    distribusi = df['label'].value_counts()\n",
    "    print(\"Distribusi label:\")\n",
    "    print(distribusi)\n",
    "    \n",
    "lihat_distribusi_label('dataset.csv')"
   ]
  },
  {
   "cell_type": "code",
   "execution_count": null,
   "id": "f69f1006",
   "metadata": {},
   "outputs": [],
   "source": []
  }
 ],
 "metadata": {
  "kernelspec": {
   "display_name": "base",
   "language": "python",
   "name": "python3"
  },
  "language_info": {
   "codemirror_mode": {
    "name": "ipython",
    "version": 3
   },
   "file_extension": ".py",
   "mimetype": "text/x-python",
   "name": "python",
   "nbconvert_exporter": "python",
   "pygments_lexer": "ipython3",
   "version": "3.12.3"
  }
 },
 "nbformat": 4,
 "nbformat_minor": 5
}
